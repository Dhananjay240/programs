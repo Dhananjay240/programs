{
  "nbformat": 4,
  "nbformat_minor": 0,
  "metadata": {
    "colab": {
      "name": "Untitled3.ipynb",
      "provenance": [],
      "collapsed_sections": [],
      "toc_visible": true,
      "authorship_tag": "ABX9TyMY9OMOVx0Sybyxru9gRcb7",
      "include_colab_link": true
    },
    "kernelspec": {
      "name": "python3",
      "display_name": "Python 3"
    }
  },
  "cells": [
    {
      "cell_type": "markdown",
      "metadata": {
        "id": "view-in-github",
        "colab_type": "text"
      },
      "source": [
        "<a href=\"https://colab.research.google.com/github/Dhananjay240/programs/blob/master/Untitled3.ipynb\" target=\"_parent\"><img src=\"https://colab.research.google.com/assets/colab-badge.svg\" alt=\"Open In Colab\"/></a>"
      ]
    },
    {
      "cell_type": "markdown",
      "metadata": {
        "id": "dm7RjHLgbuAd",
        "colab_type": "text"
      },
      "source": [
        "## PANDAS"
      ]
    },
    {
      "cell_type": "code",
      "metadata": {
        "id": "8-wf4tKMbqhm",
        "colab_type": "code",
        "outputId": "1ec56076-d1d6-4ed8-9c24-081f228b04d1",
        "colab": {
          "base_uri": "https://localhost:8080/",
          "height": 204
        }
      },
      "source": [
        "import pandas as pd\n",
        "df = pd.read_excel('/content/Philadelphia_Crime_Rate_noNA.xlsx')\n",
        "df.head()"
      ],
      "execution_count": 71,
      "outputs": [
        {
          "output_type": "execute_result",
          "data": {
            "text/html": [
              "<div>\n",
              "<style scoped>\n",
              "    .dataframe tbody tr th:only-of-type {\n",
              "        vertical-align: middle;\n",
              "    }\n",
              "\n",
              "    .dataframe tbody tr th {\n",
              "        vertical-align: top;\n",
              "    }\n",
              "\n",
              "    .dataframe thead th {\n",
              "        text-align: right;\n",
              "    }\n",
              "</style>\n",
              "<table border=\"1\" class=\"dataframe\">\n",
              "  <thead>\n",
              "    <tr style=\"text-align: right;\">\n",
              "      <th></th>\n",
              "      <th>HousePrice</th>\n",
              "      <th>HsPrc ($10,000)</th>\n",
              "      <th>CrimeRate</th>\n",
              "      <th>MilesPhila</th>\n",
              "      <th>PopChg</th>\n",
              "      <th>Name</th>\n",
              "      <th>County</th>\n",
              "    </tr>\n",
              "  </thead>\n",
              "  <tbody>\n",
              "    <tr>\n",
              "      <th>0</th>\n",
              "      <td>140463</td>\n",
              "      <td>14.0463</td>\n",
              "      <td>29.7</td>\n",
              "      <td>10.0</td>\n",
              "      <td>-1.0</td>\n",
              "      <td>Abington</td>\n",
              "      <td>Montgome</td>\n",
              "    </tr>\n",
              "    <tr>\n",
              "      <th>1</th>\n",
              "      <td>113033</td>\n",
              "      <td>11.3033</td>\n",
              "      <td>24.1</td>\n",
              "      <td>18.0</td>\n",
              "      <td>4.0</td>\n",
              "      <td>Ambler</td>\n",
              "      <td>Montgome</td>\n",
              "    </tr>\n",
              "    <tr>\n",
              "      <th>2</th>\n",
              "      <td>124186</td>\n",
              "      <td>12.4186</td>\n",
              "      <td>19.5</td>\n",
              "      <td>25.0</td>\n",
              "      <td>8.0</td>\n",
              "      <td>Aston</td>\n",
              "      <td>Delaware</td>\n",
              "    </tr>\n",
              "    <tr>\n",
              "      <th>3</th>\n",
              "      <td>110490</td>\n",
              "      <td>11.0490</td>\n",
              "      <td>49.4</td>\n",
              "      <td>25.0</td>\n",
              "      <td>2.7</td>\n",
              "      <td>Bensalem</td>\n",
              "      <td>Bucks</td>\n",
              "    </tr>\n",
              "    <tr>\n",
              "      <th>4</th>\n",
              "      <td>79124</td>\n",
              "      <td>7.9124</td>\n",
              "      <td>54.1</td>\n",
              "      <td>19.0</td>\n",
              "      <td>3.9</td>\n",
              "      <td>Bristol B.</td>\n",
              "      <td>Bucks</td>\n",
              "    </tr>\n",
              "  </tbody>\n",
              "</table>\n",
              "</div>"
            ],
            "text/plain": [
              "   HousePrice  HsPrc ($10,000)  CrimeRate  ...  PopChg        Name    County\n",
              "0      140463          14.0463       29.7  ...    -1.0    Abington  Montgome\n",
              "1      113033          11.3033       24.1  ...     4.0      Ambler  Montgome\n",
              "2      124186          12.4186       19.5  ...     8.0       Aston  Delaware\n",
              "3      110490          11.0490       49.4  ...     2.7    Bensalem     Bucks\n",
              "4       79124           7.9124       54.1  ...     3.9  Bristol B.     Bucks\n",
              "\n",
              "[5 rows x 7 columns]"
            ]
          },
          "metadata": {
            "tags": []
          },
          "execution_count": 71
        }
      ]
    },
    {
      "cell_type": "code",
      "metadata": {
        "id": "BCvJdmv7lz06",
        "colab_type": "code",
        "outputId": "858870ff-26c5-4b51-85b5-6477e14ca4af",
        "colab": {
          "base_uri": "https://localhost:8080/",
          "height": 34
        }
      },
      "source": [
        "len(df)"
      ],
      "execution_count": 72,
      "outputs": [
        {
          "output_type": "execute_result",
          "data": {
            "text/plain": [
              "99"
            ]
          },
          "metadata": {
            "tags": []
          },
          "execution_count": 72
        }
      ]
    },
    {
      "cell_type": "code",
      "metadata": {
        "id": "VajxhPIXl2wG",
        "colab_type": "code",
        "outputId": "dc7f0d68-a185-486a-d42b-405af7e82c57",
        "colab": {
          "base_uri": "https://localhost:8080/",
          "height": 34
        }
      },
      "source": [
        "df.shape"
      ],
      "execution_count": 73,
      "outputs": [
        {
          "output_type": "execute_result",
          "data": {
            "text/plain": [
              "(99, 7)"
            ]
          },
          "metadata": {
            "tags": []
          },
          "execution_count": 73
        }
      ]
    },
    {
      "cell_type": "code",
      "metadata": {
        "id": "OD-2zbMsl67u",
        "colab_type": "code",
        "outputId": "79983bc5-fdc1-4b14-d4a8-ae3e1cbe9efa",
        "colab": {
          "base_uri": "https://localhost:8080/",
          "height": 153
        }
      },
      "source": [
        "df.loc[4]"
      ],
      "execution_count": 74,
      "outputs": [
        {
          "output_type": "execute_result",
          "data": {
            "text/plain": [
              "HousePrice              79124\n",
              "HsPrc ($10,000)        7.9124\n",
              "CrimeRate                54.1\n",
              "MilesPhila                 19\n",
              "PopChg                    3.9\n",
              "Name               Bristol B.\n",
              "County                  Bucks\n",
              "Name: 4, dtype: object"
            ]
          },
          "metadata": {
            "tags": []
          },
          "execution_count": 74
        }
      ]
    },
    {
      "cell_type": "code",
      "metadata": {
        "id": "gATayqAEmG_u",
        "colab_type": "code",
        "outputId": "a22f959d-6e23-4f12-e7b5-49418559c607",
        "colab": {
          "base_uri": "https://localhost:8080/",
          "height": 204
        }
      },
      "source": [
        "df_short = df[3:8]\n",
        "df_short"
      ],
      "execution_count": 75,
      "outputs": [
        {
          "output_type": "execute_result",
          "data": {
            "text/html": [
              "<div>\n",
              "<style scoped>\n",
              "    .dataframe tbody tr th:only-of-type {\n",
              "        vertical-align: middle;\n",
              "    }\n",
              "\n",
              "    .dataframe tbody tr th {\n",
              "        vertical-align: top;\n",
              "    }\n",
              "\n",
              "    .dataframe thead th {\n",
              "        text-align: right;\n",
              "    }\n",
              "</style>\n",
              "<table border=\"1\" class=\"dataframe\">\n",
              "  <thead>\n",
              "    <tr style=\"text-align: right;\">\n",
              "      <th></th>\n",
              "      <th>HousePrice</th>\n",
              "      <th>HsPrc ($10,000)</th>\n",
              "      <th>CrimeRate</th>\n",
              "      <th>MilesPhila</th>\n",
              "      <th>PopChg</th>\n",
              "      <th>Name</th>\n",
              "      <th>County</th>\n",
              "    </tr>\n",
              "  </thead>\n",
              "  <tbody>\n",
              "    <tr>\n",
              "      <th>3</th>\n",
              "      <td>110490</td>\n",
              "      <td>11.0490</td>\n",
              "      <td>49.4</td>\n",
              "      <td>25.0</td>\n",
              "      <td>2.7</td>\n",
              "      <td>Bensalem</td>\n",
              "      <td>Bucks</td>\n",
              "    </tr>\n",
              "    <tr>\n",
              "      <th>4</th>\n",
              "      <td>79124</td>\n",
              "      <td>7.9124</td>\n",
              "      <td>54.1</td>\n",
              "      <td>19.0</td>\n",
              "      <td>3.9</td>\n",
              "      <td>Bristol B.</td>\n",
              "      <td>Bucks</td>\n",
              "    </tr>\n",
              "    <tr>\n",
              "      <th>5</th>\n",
              "      <td>92634</td>\n",
              "      <td>9.2634</td>\n",
              "      <td>48.6</td>\n",
              "      <td>20.0</td>\n",
              "      <td>0.6</td>\n",
              "      <td>Bristol T.</td>\n",
              "      <td>Bucks</td>\n",
              "    </tr>\n",
              "    <tr>\n",
              "      <th>6</th>\n",
              "      <td>89246</td>\n",
              "      <td>8.9246</td>\n",
              "      <td>30.8</td>\n",
              "      <td>15.0</td>\n",
              "      <td>-2.6</td>\n",
              "      <td>Brookhaven</td>\n",
              "      <td>Delaware</td>\n",
              "    </tr>\n",
              "    <tr>\n",
              "      <th>7</th>\n",
              "      <td>195145</td>\n",
              "      <td>19.5145</td>\n",
              "      <td>10.8</td>\n",
              "      <td>20.0</td>\n",
              "      <td>-3.5</td>\n",
              "      <td>Bryn Athyn</td>\n",
              "      <td>Montgome</td>\n",
              "    </tr>\n",
              "  </tbody>\n",
              "</table>\n",
              "</div>"
            ],
            "text/plain": [
              "   HousePrice  HsPrc ($10,000)  CrimeRate  ...  PopChg        Name    County\n",
              "3      110490          11.0490       49.4  ...     2.7    Bensalem     Bucks\n",
              "4       79124           7.9124       54.1  ...     3.9  Bristol B.     Bucks\n",
              "5       92634           9.2634       48.6  ...     0.6  Bristol T.     Bucks\n",
              "6       89246           8.9246       30.8  ...    -2.6  Brookhaven  Delaware\n",
              "7      195145          19.5145       10.8  ...    -3.5  Bryn Athyn  Montgome\n",
              "\n",
              "[5 rows x 7 columns]"
            ]
          },
          "metadata": {
            "tags": []
          },
          "execution_count": 75
        }
      ]
    },
    {
      "cell_type": "code",
      "metadata": {
        "id": "59yLy6mvmZFY",
        "colab_type": "code",
        "outputId": "5c16436c-9878-4c88-8997-ebdea1e181f3",
        "colab": {
          "base_uri": "https://localhost:8080/",
          "height": 34
        }
      },
      "source": [
        "df_short.shape"
      ],
      "execution_count": 76,
      "outputs": [
        {
          "output_type": "execute_result",
          "data": {
            "text/plain": [
              "(5, 7)"
            ]
          },
          "metadata": {
            "tags": []
          },
          "execution_count": 76
        }
      ]
    },
    {
      "cell_type": "code",
      "metadata": {
        "id": "Ruvyk2pQmjYU",
        "colab_type": "code",
        "outputId": "8e7be441-f70b-4f20-cb08-583cce27dc1f",
        "colab": {
          "base_uri": "https://localhost:8080/",
          "height": 419
        }
      },
      "source": [
        "df_thin = df[['HousePrice','CrimeRate','MilesPhila','Name']]\n",
        "df_thin"
      ],
      "execution_count": 77,
      "outputs": [
        {
          "output_type": "execute_result",
          "data": {
            "text/html": [
              "<div>\n",
              "<style scoped>\n",
              "    .dataframe tbody tr th:only-of-type {\n",
              "        vertical-align: middle;\n",
              "    }\n",
              "\n",
              "    .dataframe tbody tr th {\n",
              "        vertical-align: top;\n",
              "    }\n",
              "\n",
              "    .dataframe thead th {\n",
              "        text-align: right;\n",
              "    }\n",
              "</style>\n",
              "<table border=\"1\" class=\"dataframe\">\n",
              "  <thead>\n",
              "    <tr style=\"text-align: right;\">\n",
              "      <th></th>\n",
              "      <th>HousePrice</th>\n",
              "      <th>CrimeRate</th>\n",
              "      <th>MilesPhila</th>\n",
              "      <th>Name</th>\n",
              "    </tr>\n",
              "  </thead>\n",
              "  <tbody>\n",
              "    <tr>\n",
              "      <th>0</th>\n",
              "      <td>140463</td>\n",
              "      <td>29.7</td>\n",
              "      <td>10.0</td>\n",
              "      <td>Abington</td>\n",
              "    </tr>\n",
              "    <tr>\n",
              "      <th>1</th>\n",
              "      <td>113033</td>\n",
              "      <td>24.1</td>\n",
              "      <td>18.0</td>\n",
              "      <td>Ambler</td>\n",
              "    </tr>\n",
              "    <tr>\n",
              "      <th>2</th>\n",
              "      <td>124186</td>\n",
              "      <td>19.5</td>\n",
              "      <td>25.0</td>\n",
              "      <td>Aston</td>\n",
              "    </tr>\n",
              "    <tr>\n",
              "      <th>3</th>\n",
              "      <td>110490</td>\n",
              "      <td>49.4</td>\n",
              "      <td>25.0</td>\n",
              "      <td>Bensalem</td>\n",
              "    </tr>\n",
              "    <tr>\n",
              "      <th>4</th>\n",
              "      <td>79124</td>\n",
              "      <td>54.1</td>\n",
              "      <td>19.0</td>\n",
              "      <td>Bristol B.</td>\n",
              "    </tr>\n",
              "    <tr>\n",
              "      <th>...</th>\n",
              "      <td>...</td>\n",
              "      <td>...</td>\n",
              "      <td>...</td>\n",
              "      <td>...</td>\n",
              "    </tr>\n",
              "    <tr>\n",
              "      <th>94</th>\n",
              "      <td>174232</td>\n",
              "      <td>13.8</td>\n",
              "      <td>25.0</td>\n",
              "      <td>Westtown</td>\n",
              "    </tr>\n",
              "    <tr>\n",
              "      <th>95</th>\n",
              "      <td>196515</td>\n",
              "      <td>29.9</td>\n",
              "      <td>16.0</td>\n",
              "      <td>Whitemarsh</td>\n",
              "    </tr>\n",
              "    <tr>\n",
              "      <th>96</th>\n",
              "      <td>232714</td>\n",
              "      <td>9.9</td>\n",
              "      <td>21.0</td>\n",
              "      <td>Willistown</td>\n",
              "    </tr>\n",
              "    <tr>\n",
              "      <th>97</th>\n",
              "      <td>245920</td>\n",
              "      <td>22.6</td>\n",
              "      <td>10.0</td>\n",
              "      <td>Wynnewood</td>\n",
              "    </tr>\n",
              "    <tr>\n",
              "      <th>98</th>\n",
              "      <td>130953</td>\n",
              "      <td>13.0</td>\n",
              "      <td>24.0</td>\n",
              "      <td>Yardley</td>\n",
              "    </tr>\n",
              "  </tbody>\n",
              "</table>\n",
              "<p>99 rows × 4 columns</p>\n",
              "</div>"
            ],
            "text/plain": [
              "    HousePrice  CrimeRate  MilesPhila        Name\n",
              "0       140463       29.7        10.0    Abington\n",
              "1       113033       24.1        18.0      Ambler\n",
              "2       124186       19.5        25.0       Aston\n",
              "3       110490       49.4        25.0    Bensalem\n",
              "4        79124       54.1        19.0  Bristol B.\n",
              "..         ...        ...         ...         ...\n",
              "94      174232       13.8        25.0    Westtown\n",
              "95      196515       29.9        16.0  Whitemarsh\n",
              "96      232714        9.9        21.0  Willistown\n",
              "97      245920       22.6        10.0   Wynnewood\n",
              "98      130953       13.0        24.0     Yardley\n",
              "\n",
              "[99 rows x 4 columns]"
            ]
          },
          "metadata": {
            "tags": []
          },
          "execution_count": 77
        }
      ]
    },
    {
      "cell_type": "code",
      "metadata": {
        "id": "hi7ujjKTnDJS",
        "colab_type": "code",
        "outputId": "c7a09f9c-8346-4758-cbdc-91a8e1c61908",
        "colab": {
          "base_uri": "https://localhost:8080/",
          "height": 204
        }
      },
      "source": [
        "df_thin.head()"
      ],
      "execution_count": 78,
      "outputs": [
        {
          "output_type": "execute_result",
          "data": {
            "text/html": [
              "<div>\n",
              "<style scoped>\n",
              "    .dataframe tbody tr th:only-of-type {\n",
              "        vertical-align: middle;\n",
              "    }\n",
              "\n",
              "    .dataframe tbody tr th {\n",
              "        vertical-align: top;\n",
              "    }\n",
              "\n",
              "    .dataframe thead th {\n",
              "        text-align: right;\n",
              "    }\n",
              "</style>\n",
              "<table border=\"1\" class=\"dataframe\">\n",
              "  <thead>\n",
              "    <tr style=\"text-align: right;\">\n",
              "      <th></th>\n",
              "      <th>HousePrice</th>\n",
              "      <th>CrimeRate</th>\n",
              "      <th>MilesPhila</th>\n",
              "      <th>Name</th>\n",
              "    </tr>\n",
              "  </thead>\n",
              "  <tbody>\n",
              "    <tr>\n",
              "      <th>0</th>\n",
              "      <td>140463</td>\n",
              "      <td>29.7</td>\n",
              "      <td>10.0</td>\n",
              "      <td>Abington</td>\n",
              "    </tr>\n",
              "    <tr>\n",
              "      <th>1</th>\n",
              "      <td>113033</td>\n",
              "      <td>24.1</td>\n",
              "      <td>18.0</td>\n",
              "      <td>Ambler</td>\n",
              "    </tr>\n",
              "    <tr>\n",
              "      <th>2</th>\n",
              "      <td>124186</td>\n",
              "      <td>19.5</td>\n",
              "      <td>25.0</td>\n",
              "      <td>Aston</td>\n",
              "    </tr>\n",
              "    <tr>\n",
              "      <th>3</th>\n",
              "      <td>110490</td>\n",
              "      <td>49.4</td>\n",
              "      <td>25.0</td>\n",
              "      <td>Bensalem</td>\n",
              "    </tr>\n",
              "    <tr>\n",
              "      <th>4</th>\n",
              "      <td>79124</td>\n",
              "      <td>54.1</td>\n",
              "      <td>19.0</td>\n",
              "      <td>Bristol B.</td>\n",
              "    </tr>\n",
              "  </tbody>\n",
              "</table>\n",
              "</div>"
            ],
            "text/plain": [
              "   HousePrice  CrimeRate  MilesPhila        Name\n",
              "0      140463       29.7        10.0    Abington\n",
              "1      113033       24.1        18.0      Ambler\n",
              "2      124186       19.5        25.0       Aston\n",
              "3      110490       49.4        25.0    Bensalem\n",
              "4       79124       54.1        19.0  Bristol B."
            ]
          },
          "metadata": {
            "tags": []
          },
          "execution_count": 78
        }
      ]
    },
    {
      "cell_type": "code",
      "metadata": {
        "id": "qOSM2yfno5YZ",
        "colab_type": "code",
        "outputId": "5b579962-65bc-4b9c-d88b-2c6f7a0d249d",
        "colab": {
          "base_uri": "https://localhost:8080/",
          "height": 255
        }
      },
      "source": [
        "df.info()"
      ],
      "execution_count": 79,
      "outputs": [
        {
          "output_type": "stream",
          "text": [
            "<class 'pandas.core.frame.DataFrame'>\n",
            "RangeIndex: 99 entries, 0 to 98\n",
            "Data columns (total 7 columns):\n",
            " #   Column           Non-Null Count  Dtype  \n",
            "---  ------           --------------  -----  \n",
            " 0   HousePrice       99 non-null     int64  \n",
            " 1   HsPrc ($10,000)  99 non-null     float64\n",
            " 2   CrimeRate        99 non-null     float64\n",
            " 3   MilesPhila       99 non-null     float64\n",
            " 4   PopChg           98 non-null     float64\n",
            " 5   Name             99 non-null     object \n",
            " 6   County           99 non-null     object \n",
            "dtypes: float64(4), int64(1), object(2)\n",
            "memory usage: 5.5+ KB\n"
          ],
          "name": "stdout"
        }
      ]
    },
    {
      "cell_type": "code",
      "metadata": {
        "id": "eoWwv6INpUem",
        "colab_type": "code",
        "outputId": "506d37fd-ca54-4697-9c57-67eaab508027",
        "colab": {
          "base_uri": "https://localhost:8080/",
          "height": 34
        }
      },
      "source": [
        "df_phil = df_thin[df_thin['CrimeRate']>=50]['CrimeRate'].min()\n",
        "df_phil"
      ],
      "execution_count": 80,
      "outputs": [
        {
          "output_type": "execute_result",
          "data": {
            "text/plain": [
              "50.3"
            ]
          },
          "metadata": {
            "tags": []
          },
          "execution_count": 80
        }
      ]
    },
    {
      "cell_type": "code",
      "metadata": {
        "id": "xoFE60YPqj_3",
        "colab_type": "code",
        "colab": {
          "base_uri": "https://localhost:8080/",
          "height": 297
        },
        "outputId": "fd21f020-cbd8-46af-83e6-b98a12b1d6fd"
      },
      "source": [
        "df_thin.describe()"
      ],
      "execution_count": 81,
      "outputs": [
        {
          "output_type": "execute_result",
          "data": {
            "text/html": [
              "<div>\n",
              "<style scoped>\n",
              "    .dataframe tbody tr th:only-of-type {\n",
              "        vertical-align: middle;\n",
              "    }\n",
              "\n",
              "    .dataframe tbody tr th {\n",
              "        vertical-align: top;\n",
              "    }\n",
              "\n",
              "    .dataframe thead th {\n",
              "        text-align: right;\n",
              "    }\n",
              "</style>\n",
              "<table border=\"1\" class=\"dataframe\">\n",
              "  <thead>\n",
              "    <tr style=\"text-align: right;\">\n",
              "      <th></th>\n",
              "      <th>HousePrice</th>\n",
              "      <th>CrimeRate</th>\n",
              "      <th>MilesPhila</th>\n",
              "    </tr>\n",
              "  </thead>\n",
              "  <tbody>\n",
              "    <tr>\n",
              "      <th>count</th>\n",
              "      <td>99.000000</td>\n",
              "      <td>99.000000</td>\n",
              "      <td>99.000000</td>\n",
              "    </tr>\n",
              "    <tr>\n",
              "      <th>mean</th>\n",
              "      <td>157835.606061</td>\n",
              "      <td>32.576768</td>\n",
              "      <td>19.282828</td>\n",
              "    </tr>\n",
              "    <tr>\n",
              "      <th>std</th>\n",
              "      <td>86644.159973</td>\n",
              "      <td>37.540908</td>\n",
              "      <td>9.099552</td>\n",
              "    </tr>\n",
              "    <tr>\n",
              "      <th>min</th>\n",
              "      <td>28000.000000</td>\n",
              "      <td>6.600000</td>\n",
              "      <td>0.000000</td>\n",
              "    </tr>\n",
              "    <tr>\n",
              "      <th>25%</th>\n",
              "      <td>98505.000000</td>\n",
              "      <td>17.400000</td>\n",
              "      <td>13.000000</td>\n",
              "    </tr>\n",
              "    <tr>\n",
              "      <th>50%</th>\n",
              "      <td>140463.000000</td>\n",
              "      <td>24.100000</td>\n",
              "      <td>20.000000</td>\n",
              "    </tr>\n",
              "    <tr>\n",
              "      <th>75%</th>\n",
              "      <td>195830.000000</td>\n",
              "      <td>39.800000</td>\n",
              "      <td>24.500000</td>\n",
              "    </tr>\n",
              "    <tr>\n",
              "      <th>max</th>\n",
              "      <td>475112.000000</td>\n",
              "      <td>366.100000</td>\n",
              "      <td>50.000000</td>\n",
              "    </tr>\n",
              "  </tbody>\n",
              "</table>\n",
              "</div>"
            ],
            "text/plain": [
              "          HousePrice   CrimeRate  MilesPhila\n",
              "count      99.000000   99.000000   99.000000\n",
              "mean   157835.606061   32.576768   19.282828\n",
              "std     86644.159973   37.540908    9.099552\n",
              "min     28000.000000    6.600000    0.000000\n",
              "25%     98505.000000   17.400000   13.000000\n",
              "50%    140463.000000   24.100000   20.000000\n",
              "75%    195830.000000   39.800000   24.500000\n",
              "max    475112.000000  366.100000   50.000000"
            ]
          },
          "metadata": {
            "tags": []
          },
          "execution_count": 81
        }
      ]
    },
    {
      "cell_type": "code",
      "metadata": {
        "id": "8AheRo5Gqu62",
        "colab_type": "code",
        "colab": {}
      },
      "source": [
        "g = df_thin.groupby(['CrimeRate'])\n",
        "for i,df_i in g:\n",
        "  print(i)\n",
        "  print(df_i)"
      ],
      "execution_count": 0,
      "outputs": []
    },
    {
      "cell_type": "code",
      "metadata": {
        "id": "rwThYwvu-nik",
        "colab_type": "code",
        "outputId": "3265e38d-7ee3-46f5-c05e-1bf593706841",
        "colab": {
          "base_uri": "https://localhost:8080/",
          "height": 68
        }
      },
      "source": [
        "import numpy as np\n",
        "np.array([[1,2,3],\n",
        "          [4,6,7],\n",
        "          [9,8,7]])"
      ],
      "execution_count": 83,
      "outputs": [
        {
          "output_type": "execute_result",
          "data": {
            "text/plain": [
              "array([[1, 2, 3],\n",
              "       [4, 6, 7],\n",
              "       [9, 8, 7]])"
            ]
          },
          "metadata": {
            "tags": []
          },
          "execution_count": 83
        }
      ]
    },
    {
      "cell_type": "code",
      "metadata": {
        "id": "AYHw8_7aEY9q",
        "colab_type": "code",
        "outputId": "5e3d0ee8-dbb3-4c53-cb5b-aa8a22340bdc",
        "colab": {
          "base_uri": "https://localhost:8080/",
          "height": 153
        }
      },
      "source": [
        "rand_vec = np.random.randn(20)\n",
        "print(rand_vec)\n",
        "print(rand_vec>0)\n",
        "print(rand_vec[rand_vec>0])"
      ],
      "execution_count": 84,
      "outputs": [
        {
          "output_type": "stream",
          "text": [
            "[-1.02144846  0.8190319  -0.80118919 -1.30715511  0.18570887 -0.23767464\n",
            "  0.08469544  0.25729333 -0.17500279  1.84828488  0.51306791  0.70799978\n",
            " -0.83344553 -0.48686063  0.20404788  0.34238313 -0.40487003 -0.57778738\n",
            " -2.16012323  1.89162243]\n",
            "[False  True False False  True False  True  True False  True  True  True\n",
            " False False  True  True False False False  True]\n",
            "[0.8190319  0.18570887 0.08469544 0.25729333 1.84828488 0.51306791\n",
            " 0.70799978 0.20404788 0.34238313 1.89162243]\n"
          ],
          "name": "stdout"
        }
      ]
    },
    {
      "cell_type": "code",
      "metadata": {
        "id": "PDgEn4bfE92T",
        "colab_type": "code",
        "outputId": "48058d0b-3b0f-421e-8b21-23fd032e0804",
        "colab": {
          "base_uri": "https://localhost:8080/",
          "height": 34
        }
      },
      "source": [
        "import math as m\n",
        "import random\n",
        "m.factorial(8)"
      ],
      "execution_count": 85,
      "outputs": [
        {
          "output_type": "execute_result",
          "data": {
            "text/plain": [
              "40320"
            ]
          },
          "metadata": {
            "tags": []
          },
          "execution_count": 85
        }
      ]
    },
    {
      "cell_type": "code",
      "metadata": {
        "id": "nwT5envyak3e",
        "colab_type": "code",
        "colab": {}
      },
      "source": [
        "def fact(x):\n",
        "  if not isinstance(x,int):\n",
        "    print('This does not support')\n",
        "    return -1\n",
        "  if x==0:\n",
        "    return 1\n",
        "  return x*fact(x-1)"
      ],
      "execution_count": 0,
      "outputs": []
    },
    {
      "cell_type": "code",
      "metadata": {
        "id": "R1Mq0q17bbkc",
        "colab_type": "code",
        "colab": {}
      },
      "source": [
        "def fact_debug():\n",
        "  import pdb;\n",
        "  pdb.set_trace()\n",
        "  for i in range(10):\n",
        "    x = random.random()\n",
        "    fact(x)"
      ],
      "execution_count": 0,
      "outputs": []
    },
    {
      "cell_type": "code",
      "metadata": {
        "id": "Kqabulxib9wt",
        "colab_type": "code",
        "colab": {
          "base_uri": "https://localhost:8080/",
          "height": 34
        },
        "outputId": "dff3fcd0-b75f-4548-e877-8ec61c2013ad"
      },
      "source": [
        "fact_debug"
      ],
      "execution_count": 88,
      "outputs": [
        {
          "output_type": "execute_result",
          "data": {
            "text/plain": [
              "<function __main__.fact_debug>"
            ]
          },
          "metadata": {
            "tags": []
          },
          "execution_count": 88
        }
      ]
    },
    {
      "cell_type": "code",
      "metadata": {
        "id": "lf9eDPQ9qD9h",
        "colab_type": "code",
        "colab": {
          "base_uri": "https://localhost:8080/",
          "height": 265
        },
        "outputId": "2e51d9e0-fc29-4f64-ed1d-2d8367a53525"
      },
      "source": [
        "import matplotlib.pyplot as plt\n",
        "plt.quiver(0,0,3,4)\n",
        "plt.show()"
      ],
      "execution_count": 89,
      "outputs": [
        {
          "output_type": "display_data",
          "data": {
            "image/png": "[encoded data removed]",
            "text/plain": [
              "<Figure size 432x288 with 1 Axes>"
            ]
          },
          "metadata": {
            "tags": [],
            "needs_background": "light"
          }
        }
      ]
    },
    {
      "cell_type": "code",
      "metadata": {
        "id": "qyb99W6Zs4dB",
        "colab_type": "code",
        "colab": {
          "base_uri": "https://localhost:8080/",
          "height": 269
        },
        "outputId": "ea082c5d-99ff-423e-a5f2-7b5397ff2799"
      },
      "source": [
        "plt.quiver(0,0,3,4,scale_units='xy',angles='xy',scale=1,color = 'g')\n",
        "plt.quiver(0,0,-3,4,scale_units='xy',angles='xy',scale=1,color = 'b')\n",
        "plt.xlim(-10,10)\n",
        "plt.ylim(-10,10)\n",
        "plt.show()"
      ],
      "execution_count": 93,
      "outputs": [
        {
          "output_type": "display_data",
          "data": {
            "image/png": "[encoded data removed]",
            "text/plain": [
              "<Figure size 432x288 with 1 Axes>"
            ]
          },
          "metadata": {
            "tags": [],
            "needs_background": "light"
          }
        }
      ]
    },
    {
      "cell_type": "markdown",
      "metadata": {
        "id": "5T4gAf-RuLZ1",
        "colab_type": "text"
      },
      "source": [
        "## A function to plot vectors"
      ]
    },
    {
      "cell_type": "code",
      "metadata": {
        "id": "1YOv0rFouP4z",
        "colab_type": "code",
        "colab": {
          "base_uri": "https://localhost:8080/",
          "height": 269
        },
        "outputId": "4b15743e-d85f-4366-b57e-4a22b381ccb6"
      },
      "source": [
        "def plot_vectors(vecs):\n",
        "  colors = ['b','g','r','y']\n",
        "  i = 0\n",
        "  for vec in vecs:\n",
        "    plt.quiver(vec[0],vec[1],vec[2],vec[3],scale_units='xy',angles='xy',scale=1,color=colors[i%len(colors)])\n",
        "    i += 1\n",
        "  plt.xlim(-10,20)\n",
        "  plt.ylim(-10,20)\n",
        "  plt.show()\n",
        "plot_vectors([(0,0,3,6),(0,0,-4,2),(0,0,-3,8),(0,0,-8,-9)])"
      ],
      "execution_count": 119,
      "outputs": [
        {
          "output_type": "display_data",
          "data": {
            "image/png": "[encoded data removed]",
            "text/plain": [
              "<Figure size 432x288 with 1 Axes>"
            ]
          },
          "metadata": {
            "tags": [],
            "needs_background": "light"
          }
        }
      ]
    },
    {
      "cell_type": "code",
      "metadata": {
        "id": "IC5YRRCT0Vlo",
        "colab_type": "code",
        "colab": {
          "base_uri": "https://localhost:8080/",
          "height": 538
        },
        "outputId": "ceda79ef-f976-4bd5-efc5-85b6ff457fcf"
      },
      "source": [
        "vecs = np.asarray([0,0,3,4]),np.asarray([0,0,-4,6]),np.asarray([0,0,3,7])\n",
        "plot_vectors([vecs[0],vecs[1]])\n",
        "print(vecs[0]+vecs[2])\n",
        "plot_vectors([vecs[0],vecs[1],vecs[0]+vecs[1]])"
      ],
      "execution_count": 122,
      "outputs": [
        {
          "output_type": "display_data",
          "data": {
            "image/png": "[encoded data removed]",
            "text/plain": [
              "<Figure size 432x288 with 1 Axes>"
            ]
          },
          "metadata": {
            "tags": [],
            "needs_background": "light"
          }
        },
        {
          "output_type": "stream",
          "text": [
            "[ 0  0  6 11]\n"
          ],
          "name": "stdout"
        },
        {
          "output_type": "display_data",
          "data": {
            "image/png": "[encoded data removed]",
            "text/plain": [
              "<Figure size 432x288 with 1 Axes>"
            ]
          },
          "metadata": {
            "tags": [],
            "needs_background": "light"
          }
        }
      ]
    },
    {
      "cell_type": "code",
      "metadata": {
        "id": "0Jlt3XBL3wtH",
        "colab_type": "code",
        "colab": {
          "base_uri": "https://localhost:8080/",
          "height": 269
        },
        "outputId": "5d96dc69-99c2-4b73-d81c-b5d826dd2c2a"
      },
      "source": [
        "plot_vectors([vecs[0],-vecs[1],vecs[0]+(-vecs[1])])"
      ],
      "execution_count": 125,
      "outputs": [
        {
          "output_type": "display_data",
          "data": {
            "image/png": "[encoded data removed]",
            "text/plain": [
              "<Figure size 432x288 with 1 Axes>"
            ]
          },
          "metadata": {
            "tags": [],
            "needs_background": "light"
          }
        }
      ]
    },
    {
      "cell_type": "code",
      "metadata": {
        "id": "8P7f1H704dez",
        "colab_type": "code",
        "colab": {
          "base_uri": "https://localhost:8080/",
          "height": 269
        },
        "outputId": "f3dac028-329e-458a-a1fb-53cb65579011"
      },
      "source": [
        "vecs = [np.asarray([0,0,3,4]),np.asarray([0,0,-4,6]),np.asarray([0,0,3,6]),np.asarray([0,0,-3,5])]\n",
        "plot_vectors(vecs)"
      ],
      "execution_count": 133,
      "outputs": [
        {
          "output_type": "display_data",
          "data": {
            "image/png": "[encoded data removed]",
            "text/plain": [
              "<Figure size 432x288 with 1 Axes>"
            ]
          },
          "metadata": {
            "tags": [],
            "needs_background": "light"
          }
        }
      ]
    }
  ]
}